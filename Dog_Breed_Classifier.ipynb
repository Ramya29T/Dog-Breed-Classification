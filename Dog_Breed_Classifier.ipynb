{
  "nbformat": 4,
  "nbformat_minor": 0,
  "metadata": {
    "colab": {
      "provenance": []
    },
    "kernelspec": {
      "name": "python3",
      "display_name": "Python 3"
    },
    "language_info": {
      "name": "python"
    }
  },
  "cells": [
    {
      "cell_type": "code",
      "execution_count": null,
      "metadata": {
        "id": "Z8pqiLGbhLDJ"
      },
      "outputs": [],
      "source": [
        "from google.colab import files\n",
        "\n",
        "# Upload an image\n",
        "uploaded = files.upload()\n",
        "\n",
        "# Process and predict labels for the uploaded image\n",
        "for filename in uploaded.keys():\n",
        "    img = image.load_img(filename, target_size=(INPUT_SIZE, INPUT_SIZE))\n",
        "    img = image.img_to_array(img)\n",
        "    img = np.expand_dims(img, axis=0)\n",
        "    img = preprocess_input(img)\n",
        "\n",
        "    # Extract bottleneck features\n",
        "    bottleneck_features = vgg_bottleneck.predict(img)\n",
        "\n",
        "    # Predict label\n",
        "    prediction = int(logreg.predict(bottleneck_features)[0])  # Convert prediction to integer\n",
        "    predicted_breed = selected_breed_list[prediction]\n",
        "\n",
        "    # Display the uploaded image along with the predicted label\n",
        "    plt.imshow(image.load_img(filename))\n",
        "    plt.title(f\"Predicted Breed: {predicted_breed}\")\n",
        "    plt.axis('off')\n",
        "    plt.show()\n"
      ]
    }
  ]
}